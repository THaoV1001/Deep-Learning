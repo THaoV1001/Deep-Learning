{
 "cells": [
  {
   "cell_type": "markdown",
   "metadata": {},
   "source": [
    "# LSTM Stock Predictor Using Fear and Greed Index\n",
    "\n",
    "In this notebook, you will build and train a custom LSTM RNN that uses a 10 day window of Bitcoin fear and greed index values to predict the 11th day closing price. \n",
    "\n",
    "You will need to:\n",
    "\n",
    "1. Prepare the data for training and testing\n",
    "2. Build and train a custom LSTM RNN\n",
    "3. Evaluate the performance of the model"
   ]
  },
  {
   "cell_type": "markdown",
   "metadata": {},
   "source": [
    "## Data Preparation\n",
    "\n",
    "In this section, you will need to prepare the training and testing data for the model. The model will use a rolling 10 day window to predict the 11th day closing price.\n",
    "\n",
    "You will need to:\n",
    "1. Use the `window_data` function to generate the X and y values for the model.\n",
    "2. Split the data into 70% training and 30% testing\n",
    "3. Apply the MinMaxScaler to the X and y values\n",
    "4. Reshape the X_train and X_test data for the model. Note: The required input format for the LSTM is:\n",
    "\n",
    "```python\n",
    "reshape((X_train.shape[0], X_train.shape[1], 1))\n",
    "```"
   ]
  },
  {
   "cell_type": "code",
   "execution_count": 89,
   "metadata": {},
   "outputs": [],
   "source": [
    "import numpy as np\n",
    "import pandas as pd\n",
    "import hvplot.pandas"
   ]
  },
  {
   "cell_type": "code",
   "execution_count": 90,
   "metadata": {},
   "outputs": [],
   "source": [
    "# Set the random seed for reproducibility\n",
    "# Note: This is for the homework solution, but it is good practice to comment this out and run multiple experiments to evaluate your model\n",
    "from numpy.random import seed\n",
    "seed(1)\n",
    "from tensorflow import random\n",
    "random.set_seed(2)"
   ]
  },
  {
   "cell_type": "code",
   "execution_count": 91,
   "metadata": {},
   "outputs": [
    {
     "data": {
      "text/html": [
       "<div>\n",
       "<style scoped>\n",
       "    .dataframe tbody tr th:only-of-type {\n",
       "        vertical-align: middle;\n",
       "    }\n",
       "\n",
       "    .dataframe tbody tr th {\n",
       "        vertical-align: top;\n",
       "    }\n",
       "\n",
       "    .dataframe thead th {\n",
       "        text-align: right;\n",
       "    }\n",
       "</style>\n",
       "<table border=\"1\" class=\"dataframe\">\n",
       "  <thead>\n",
       "    <tr style=\"text-align: right;\">\n",
       "      <th></th>\n",
       "      <th>fng_value</th>\n",
       "    </tr>\n",
       "    <tr>\n",
       "      <th>date</th>\n",
       "      <th></th>\n",
       "    </tr>\n",
       "  </thead>\n",
       "  <tbody>\n",
       "    <tr>\n",
       "      <th>2019-07-29</th>\n",
       "      <td>19</td>\n",
       "    </tr>\n",
       "    <tr>\n",
       "      <th>2019-07-28</th>\n",
       "      <td>16</td>\n",
       "    </tr>\n",
       "    <tr>\n",
       "      <th>2019-07-27</th>\n",
       "      <td>47</td>\n",
       "    </tr>\n",
       "    <tr>\n",
       "      <th>2019-07-26</th>\n",
       "      <td>24</td>\n",
       "    </tr>\n",
       "    <tr>\n",
       "      <th>2019-07-25</th>\n",
       "      <td>42</td>\n",
       "    </tr>\n",
       "  </tbody>\n",
       "</table>\n",
       "</div>"
      ],
      "text/plain": [
       "             fng_value\n",
       "date                  \n",
       "2019-07-29          19\n",
       "2019-07-28          16\n",
       "2019-07-27          47\n",
       "2019-07-26          24\n",
       "2019-07-25          42"
      ]
     },
     "execution_count": 91,
     "metadata": {},
     "output_type": "execute_result"
    }
   ],
   "source": [
    "# Load the fear and greed sentiment data for Bitcoin\n",
    "df = pd.read_csv('btc_sentiment.csv', index_col=\"date\", infer_datetime_format=True, parse_dates=True)\n",
    "df = df.drop(columns=\"fng_classification\")\n",
    "df.head()"
   ]
  },
  {
   "cell_type": "code",
   "execution_count": 92,
   "metadata": {},
   "outputs": [
    {
     "data": {
      "text/plain": [
       "Date\n",
       "2019-07-25    9882.429688\n",
       "2019-07-26    9847.450195\n",
       "2019-07-27    9478.320313\n",
       "2019-07-28    9531.769531\n",
       "2019-07-29    9529.889648\n",
       "Name: Close, dtype: float64"
      ]
     },
     "execution_count": 92,
     "metadata": {},
     "output_type": "execute_result"
    }
   ],
   "source": [
    "# Load the historical closing prices for Bitcoin\n",
    "df2 = pd.read_csv('btc_historic.csv', index_col=\"Date\", infer_datetime_format=True, parse_dates=True)['Close']\n",
    "df2 = df2.sort_index()\n",
    "df2.tail()"
   ]
  },
  {
   "cell_type": "code",
   "execution_count": 93,
   "metadata": {},
   "outputs": [
    {
     "data": {
      "text/html": [
       "<div>\n",
       "<style scoped>\n",
       "    .dataframe tbody tr th:only-of-type {\n",
       "        vertical-align: middle;\n",
       "    }\n",
       "\n",
       "    .dataframe tbody tr th {\n",
       "        vertical-align: top;\n",
       "    }\n",
       "\n",
       "    .dataframe thead th {\n",
       "        text-align: right;\n",
       "    }\n",
       "</style>\n",
       "<table border=\"1\" class=\"dataframe\">\n",
       "  <thead>\n",
       "    <tr style=\"text-align: right;\">\n",
       "      <th></th>\n",
       "      <th>fng_value</th>\n",
       "      <th>Close</th>\n",
       "    </tr>\n",
       "  </thead>\n",
       "  <tbody>\n",
       "    <tr>\n",
       "      <th>2019-07-25</th>\n",
       "      <td>42</td>\n",
       "      <td>9882.429688</td>\n",
       "    </tr>\n",
       "    <tr>\n",
       "      <th>2019-07-26</th>\n",
       "      <td>24</td>\n",
       "      <td>9847.450195</td>\n",
       "    </tr>\n",
       "    <tr>\n",
       "      <th>2019-07-27</th>\n",
       "      <td>47</td>\n",
       "      <td>9478.320313</td>\n",
       "    </tr>\n",
       "    <tr>\n",
       "      <th>2019-07-28</th>\n",
       "      <td>16</td>\n",
       "      <td>9531.769531</td>\n",
       "    </tr>\n",
       "    <tr>\n",
       "      <th>2019-07-29</th>\n",
       "      <td>19</td>\n",
       "      <td>9529.889648</td>\n",
       "    </tr>\n",
       "  </tbody>\n",
       "</table>\n",
       "</div>"
      ],
      "text/plain": [
       "             fng_value        Close\n",
       "2019-07-25          42  9882.429688\n",
       "2019-07-26          24  9847.450195\n",
       "2019-07-27          47  9478.320313\n",
       "2019-07-28          16  9531.769531\n",
       "2019-07-29          19  9529.889648"
      ]
     },
     "execution_count": 93,
     "metadata": {},
     "output_type": "execute_result"
    }
   ],
   "source": [
    "# Join the data into a single DataFrame\n",
    "df = df.join(df2, how=\"inner\")\n",
    "df.tail()"
   ]
  },
  {
   "cell_type": "code",
   "execution_count": 94,
   "metadata": {},
   "outputs": [
    {
     "data": {
      "text/html": [
       "<div>\n",
       "<style scoped>\n",
       "    .dataframe tbody tr th:only-of-type {\n",
       "        vertical-align: middle;\n",
       "    }\n",
       "\n",
       "    .dataframe tbody tr th {\n",
       "        vertical-align: top;\n",
       "    }\n",
       "\n",
       "    .dataframe thead th {\n",
       "        text-align: right;\n",
       "    }\n",
       "</style>\n",
       "<table border=\"1\" class=\"dataframe\">\n",
       "  <thead>\n",
       "    <tr style=\"text-align: right;\">\n",
       "      <th></th>\n",
       "      <th>fng_value</th>\n",
       "      <th>Close</th>\n",
       "    </tr>\n",
       "  </thead>\n",
       "  <tbody>\n",
       "    <tr>\n",
       "      <th>2018-02-01</th>\n",
       "      <td>30</td>\n",
       "      <td>9114.719727</td>\n",
       "    </tr>\n",
       "    <tr>\n",
       "      <th>2018-02-02</th>\n",
       "      <td>15</td>\n",
       "      <td>8870.820313</td>\n",
       "    </tr>\n",
       "    <tr>\n",
       "      <th>2018-02-03</th>\n",
       "      <td>40</td>\n",
       "      <td>9251.269531</td>\n",
       "    </tr>\n",
       "    <tr>\n",
       "      <th>2018-02-04</th>\n",
       "      <td>24</td>\n",
       "      <td>8218.049805</td>\n",
       "    </tr>\n",
       "    <tr>\n",
       "      <th>2018-02-05</th>\n",
       "      <td>11</td>\n",
       "      <td>6937.080078</td>\n",
       "    </tr>\n",
       "  </tbody>\n",
       "</table>\n",
       "</div>"
      ],
      "text/plain": [
       "             fng_value        Close\n",
       "2018-02-01          30  9114.719727\n",
       "2018-02-02          15  8870.820313\n",
       "2018-02-03          40  9251.269531\n",
       "2018-02-04          24  8218.049805\n",
       "2018-02-05          11  6937.080078"
      ]
     },
     "execution_count": 94,
     "metadata": {},
     "output_type": "execute_result"
    }
   ],
   "source": [
    "df.head()"
   ]
  },
  {
   "cell_type": "code",
   "execution_count": 95,
   "metadata": {},
   "outputs": [],
   "source": [
    "# This function accepts the column number for the features (X) and the target (y)\n",
    "# It chunks the data up with a rolling window of Xt-n to predict Xt\n",
    "# It returns a numpy array of X any y\n",
    "def window_data(df, window, feature_col_number, target_col_number):\n",
    "    X = []\n",
    "    y = []\n",
    "    for i in range(len(df) - window - 1):\n",
    "        features = df.iloc[i:(i + window), feature_col_number]\n",
    "        target = df.iloc[(i + window), target_col_number]\n",
    "        X.append(features)\n",
    "        y.append(target)\n",
    "    return np.array(X), np.array(y).reshape(-1, 1)"
   ]
  },
  {
   "cell_type": "code",
   "execution_count": 96,
   "metadata": {},
   "outputs": [],
   "source": [
    "# Predict Closing Prices using a 10 day window of previous fng values\n",
    "# Then, experiment with window sizes anywhere from 1 to 10 and see how the model performance changes\n",
    "window_size = 2\n",
    "\n",
    "# Column index 0 is the 'fng_value' column\n",
    "# Column index 1 is the `Close` column\n",
    "feature_column = 0\n",
    "target_column = 1\n",
    "X, y = window_data(df, window_size, feature_column, target_column)"
   ]
  },
  {
   "cell_type": "code",
   "execution_count": 97,
   "metadata": {},
   "outputs": [],
   "source": [
    "# Use 70% of the data for training and the remaineder for testing\n",
    "split = int(0.7 * len(X))\n",
    "X_train = X[: split]\n",
    "X_test = X[split:]\n",
    "y_train = y[: split]\n",
    "y_test = y[split:]"
   ]
  },
  {
   "cell_type": "code",
   "execution_count": 98,
   "metadata": {},
   "outputs": [],
   "source": [
    "from sklearn.preprocessing import MinMaxScaler\n",
    "# Use the MinMaxScaler to scale data between 0 and 1.\n",
    "scaler = MinMaxScaler()\n",
    "scaler.fit(X_train)\n",
    "X_train = scaler.transform(X_train)\n",
    "X_test = scaler.transform(X_test)\n",
    "scaler.fit(y_train)\n",
    "y_train = scaler.transform(y_train)\n",
    "y_test = scaler.transform(y_test)"
   ]
  },
  {
   "cell_type": "code",
   "execution_count": 99,
   "metadata": {},
   "outputs": [],
   "source": [
    "# Reshape the features for the model\n",
    "X_train = X_train.reshape((X_train.shape[0], X_train.shape[1], 1))\n",
    "X_test = X_test.reshape((X_test.shape[0], X_test.shape[1], 1))"
   ]
  },
  {
   "cell_type": "markdown",
   "metadata": {},
   "source": [
    "---"
   ]
  },
  {
   "cell_type": "markdown",
   "metadata": {},
   "source": [
    "## Build and Train the LSTM RNN\n",
    "\n",
    "In this section, you will design a custom LSTM RNN and fit (train) it using the training data.\n",
    "\n",
    "You will need to:\n",
    "1. Define the model architecture\n",
    "2. Compile the model\n",
    "3. Fit the model to the training data\n",
    "\n",
    "### Hints:\n",
    "You will want to use the same model architecture and random seed for both notebooks. This is necessary to accurately compare the performance of the FNG model vs the closing price model. "
   ]
  },
  {
   "cell_type": "code",
   "execution_count": 100,
   "metadata": {},
   "outputs": [],
   "source": [
    "from tensorflow.keras.models import Sequential\n",
    "from tensorflow.keras.layers import LSTM, Dense, Dropout"
   ]
  },
  {
   "cell_type": "code",
   "execution_count": 101,
   "metadata": {},
   "outputs": [],
   "source": [
    "# Build the LSTM model. \n",
    "# The return sequences need to be set to True if you are adding additional LSTM layers, but \n",
    "# You don't have to do this for the final layer. \n",
    "# Note: The dropouts help prevent overfitting\n",
    "# Note: The input shape is the number of time steps and the number of indicators\n",
    "# Note: Batching inputs has a different input shape of Samples/TimeSteps/Features\n",
    "model = Sequential()\n",
    "\n",
    "number_units = 30\n",
    "dropout_fraction = 0.2\n",
    "\n",
    "# 1st Layer\n",
    "model.add(LSTM(\n",
    "    units = number_units,\n",
    "    return_sequences = True,\n",
    "    input_shape = (X_train.shape[1],1)\n",
    "))\n",
    "model.add(Dropout(dropout_fraction))\n",
    "\n",
    "# 2nd Layer\n",
    "model.add(LSTM(\n",
    "    units = number_units,\n",
    "    return_sequences = True\n",
    "))\n",
    "model.add(Dropout(dropout_fraction))\n",
    "\n",
    "# 3rd Layer\n",
    "model.add(LSTM(units = number_units))\n",
    "model.add(Dropout(dropout_fraction))\n",
    "\n",
    "model.add(Dense(1))\n"
   ]
  },
  {
   "cell_type": "code",
   "execution_count": 102,
   "metadata": {},
   "outputs": [],
   "source": [
    "# Compile the model\n",
    "model.compile(optimizer=\"adam\", loss=\"mean_squared_error\")"
   ]
  },
  {
   "cell_type": "code",
   "execution_count": 103,
   "metadata": {},
   "outputs": [
    {
     "name": "stdout",
     "output_type": "stream",
     "text": [
      "Model: \"sequential_4\"\n",
      "_________________________________________________________________\n",
      " Layer (type)                Output Shape              Param #   \n",
      "=================================================================\n",
      " lstm_12 (LSTM)              (None, 2, 30)             3840      \n",
      "                                                                 \n",
      " dropout_12 (Dropout)        (None, 2, 30)             0         \n",
      "                                                                 \n",
      " lstm_13 (LSTM)              (None, 2, 30)             7320      \n",
      "                                                                 \n",
      " dropout_13 (Dropout)        (None, 2, 30)             0         \n",
      "                                                                 \n",
      " lstm_14 (LSTM)              (None, 30)                7320      \n",
      "                                                                 \n",
      " dropout_14 (Dropout)        (None, 30)                0         \n",
      "                                                                 \n",
      " dense_4 (Dense)             (None, 1)                 31        \n",
      "                                                                 \n",
      "=================================================================\n",
      "Total params: 18,511\n",
      "Trainable params: 18,511\n",
      "Non-trainable params: 0\n",
      "_________________________________________________________________\n"
     ]
    }
   ],
   "source": [
    "# Summarize the model\n",
    "model.summary()"
   ]
  },
  {
   "cell_type": "code",
   "execution_count": 104,
   "metadata": {},
   "outputs": [
    {
     "name": "stdout",
     "output_type": "stream",
     "text": [
      "Epoch 1/80\n",
      "38/38 [==============================] - 5s 4ms/step - loss: 0.1814\n",
      "Epoch 2/80\n",
      "38/38 [==============================] - 0s 4ms/step - loss: 0.0917\n",
      "Epoch 3/80\n",
      "38/38 [==============================] - 0s 5ms/step - loss: 0.0694\n",
      "Epoch 4/80\n",
      "38/38 [==============================] - 0s 5ms/step - loss: 0.0663\n",
      "Epoch 5/80\n",
      "38/38 [==============================] - 0s 6ms/step - loss: 0.0636\n",
      "Epoch 6/80\n",
      "38/38 [==============================] - 0s 4ms/step - loss: 0.0642\n",
      "Epoch 7/80\n",
      "38/38 [==============================] - 0s 4ms/step - loss: 0.0655\n",
      "Epoch 8/80\n",
      "38/38 [==============================] - 0s 4ms/step - loss: 0.0604A: 0s - loss: 0.045\n",
      "Epoch 9/80\n",
      "38/38 [==============================] - 0s 4ms/step - loss: 0.0622\n",
      "Epoch 10/80\n",
      "38/38 [==============================] - 0s 4ms/step - loss: 0.0604A: 0s - loss: 0.07\n",
      "Epoch 11/80\n",
      "38/38 [==============================] - 0s 4ms/step - loss: 0.0612\n",
      "Epoch 12/80\n",
      "38/38 [==============================] - 0s 4ms/step - loss: 0.0586\n",
      "Epoch 13/80\n",
      "38/38 [==============================] - 0s 4ms/step - loss: 0.0568\n",
      "Epoch 14/80\n",
      "38/38 [==============================] - 0s 4ms/step - loss: 0.0579\n",
      "Epoch 15/80\n",
      "38/38 [==============================] - 0s 4ms/step - loss: 0.0595\n",
      "Epoch 16/80\n",
      "38/38 [==============================] - 0s 4ms/step - loss: 0.0569\n",
      "Epoch 17/80\n",
      "38/38 [==============================] - 0s 4ms/step - loss: 0.0580\n",
      "Epoch 18/80\n",
      "38/38 [==============================] - 0s 4ms/step - loss: 0.0594\n",
      "Epoch 19/80\n",
      "38/38 [==============================] - 0s 4ms/step - loss: 0.0596\n",
      "Epoch 20/80\n",
      "38/38 [==============================] - 0s 4ms/step - loss: 0.0576A: 0s - loss: 0.04\n",
      "Epoch 21/80\n",
      "38/38 [==============================] - 0s 4ms/step - loss: 0.0582\n",
      "Epoch 22/80\n",
      "38/38 [==============================] - 0s 4ms/step - loss: 0.0546\n",
      "Epoch 23/80\n",
      "38/38 [==============================] - 0s 4ms/step - loss: 0.0550\n",
      "Epoch 24/80\n",
      "38/38 [==============================] - 0s 4ms/step - loss: 0.0537\n",
      "Epoch 25/80\n",
      "38/38 [==============================] - 0s 4ms/step - loss: 0.0550\n",
      "Epoch 26/80\n",
      "38/38 [==============================] - 0s 4ms/step - loss: 0.0549\n",
      "Epoch 27/80\n",
      "38/38 [==============================] - 0s 4ms/step - loss: 0.0548\n",
      "Epoch 28/80\n",
      "38/38 [==============================] - 0s 4ms/step - loss: 0.0536\n",
      "Epoch 29/80\n",
      "38/38 [==============================] - 0s 4ms/step - loss: 0.0550\n",
      "Epoch 30/80\n",
      "38/38 [==============================] - 0s 4ms/step - loss: 0.0543\n",
      "Epoch 31/80\n",
      "38/38 [==============================] - 0s 4ms/step - loss: 0.0536\n",
      "Epoch 32/80\n",
      "38/38 [==============================] - 0s 4ms/step - loss: 0.0537\n",
      "Epoch 33/80\n",
      "38/38 [==============================] - 0s 5ms/step - loss: 0.0545\n",
      "Epoch 34/80\n",
      "38/38 [==============================] - 0s 6ms/step - loss: 0.0536\n",
      "Epoch 35/80\n",
      "38/38 [==============================] - 0s 4ms/step - loss: 0.0562\n",
      "Epoch 36/80\n",
      "38/38 [==============================] - 0s 4ms/step - loss: 0.0532\n",
      "Epoch 37/80\n",
      "38/38 [==============================] - 0s 4ms/step - loss: 0.0531\n",
      "Epoch 38/80\n",
      "38/38 [==============================] - 0s 5ms/step - loss: 0.0514\n",
      "Epoch 39/80\n",
      "38/38 [==============================] - 0s 5ms/step - loss: 0.0543\n",
      "Epoch 40/80\n",
      "38/38 [==============================] - 0s 5ms/step - loss: 0.0522\n",
      "Epoch 41/80\n",
      "38/38 [==============================] - 0s 4ms/step - loss: 0.0529\n",
      "Epoch 42/80\n",
      "38/38 [==============================] - 0s 4ms/step - loss: 0.0519\n",
      "Epoch 43/80\n",
      "38/38 [==============================] - ETA: 0s - loss: 0.037 - 0s 4ms/step - loss: 0.0524\n",
      "Epoch 44/80\n",
      "38/38 [==============================] - 0s 4ms/step - loss: 0.0537\n",
      "Epoch 45/80\n",
      "38/38 [==============================] - 0s 4ms/step - loss: 0.0515A: 0s - loss: 0.051\n",
      "Epoch 46/80\n",
      "38/38 [==============================] - 0s 6ms/step - loss: 0.0524\n",
      "Epoch 47/80\n",
      "38/38 [==============================] - 0s 4ms/step - loss: 0.0511\n",
      "Epoch 48/80\n",
      "38/38 [==============================] - 0s 5ms/step - loss: 0.0517\n",
      "Epoch 49/80\n",
      "38/38 [==============================] - 0s 5ms/step - loss: 0.0532\n",
      "Epoch 50/80\n",
      "38/38 [==============================] - 0s 4ms/step - loss: 0.0535\n",
      "Epoch 51/80\n",
      "38/38 [==============================] - 0s 4ms/step - loss: 0.0518\n",
      "Epoch 52/80\n",
      "38/38 [==============================] - 0s 4ms/step - loss: 0.0518\n",
      "Epoch 53/80\n",
      "38/38 [==============================] - 0s 4ms/step - loss: 0.0517\n",
      "Epoch 54/80\n",
      "38/38 [==============================] - 0s 4ms/step - loss: 0.0523\n",
      "Epoch 55/80\n",
      "38/38 [==============================] - 0s 4ms/step - loss: 0.0523\n",
      "Epoch 56/80\n",
      "38/38 [==============================] - ETA: 0s - loss: 0.038 - 0s 4ms/step - loss: 0.0521\n",
      "Epoch 57/80\n",
      "38/38 [==============================] - 0s 6ms/step - loss: 0.0527\n",
      "Epoch 58/80\n",
      "38/38 [==============================] - 0s 5ms/step - loss: 0.0518\n",
      "Epoch 59/80\n",
      "38/38 [==============================] - 0s 5ms/step - loss: 0.0510\n",
      "Epoch 60/80\n",
      "38/38 [==============================] - 0s 4ms/step - loss: 0.0501\n",
      "Epoch 61/80\n",
      "38/38 [==============================] - 0s 4ms/step - loss: 0.0500\n",
      "Epoch 62/80\n",
      "38/38 [==============================] - 0s 4ms/step - loss: 0.0514\n",
      "Epoch 63/80\n",
      "38/38 [==============================] - 0s 4ms/step - loss: 0.0509\n",
      "Epoch 64/80\n",
      "38/38 [==============================] - ETA: 0s - loss: 0.043 - 0s 5ms/step - loss: 0.0503\n",
      "Epoch 65/80\n",
      "38/38 [==============================] - 0s 6ms/step - loss: 0.0495\n",
      "Epoch 66/80\n",
      "38/38 [==============================] - 0s 6ms/step - loss: 0.0490\n",
      "Epoch 67/80\n",
      "38/38 [==============================] - 0s 5ms/step - loss: 0.0508\n",
      "Epoch 68/80\n",
      "38/38 [==============================] - 0s 4ms/step - loss: 0.0508\n",
      "Epoch 69/80\n",
      "38/38 [==============================] - 0s 4ms/step - loss: 0.0500\n",
      "Epoch 70/80\n",
      "38/38 [==============================] - 0s 4ms/step - loss: 0.0516\n",
      "Epoch 71/80\n",
      "38/38 [==============================] - 0s 5ms/step - loss: 0.0504\n",
      "Epoch 72/80\n",
      "38/38 [==============================] - 0s 5ms/step - loss: 0.0492\n",
      "Epoch 73/80\n",
      "38/38 [==============================] - 0s 4ms/step - loss: 0.0509\n",
      "Epoch 74/80\n",
      "38/38 [==============================] - 0s 5ms/step - loss: 0.0500\n",
      "Epoch 75/80\n",
      "38/38 [==============================] - 0s 5ms/step - loss: 0.0506\n",
      "Epoch 76/80\n",
      "38/38 [==============================] - 0s 6ms/step - loss: 0.0500\n",
      "Epoch 77/80\n",
      "38/38 [==============================] - 0s 5ms/step - loss: 0.0518\n",
      "Epoch 78/80\n",
      "38/38 [==============================] - 0s 5ms/step - loss: 0.0501\n",
      "Epoch 79/80\n",
      "38/38 [==============================] - 0s 6ms/step - loss: 0.0499\n",
      "Epoch 80/80\n",
      "38/38 [==============================] - 0s 5ms/step - loss: 0.0501\n"
     ]
    },
    {
     "data": {
      "text/plain": [
       "<keras.callbacks.History at 0x1f343d371c8>"
      ]
     },
     "execution_count": 104,
     "metadata": {},
     "output_type": "execute_result"
    }
   ],
   "source": [
    "# Train the model\n",
    "# Use at least 10 epochs\n",
    "# Do not shuffle the data\n",
    "# Experiement with the batch size, but a smaller batch size is recommended\n",
    "epochs = 80\n",
    "batch_size = 10\n",
    "model.fit(X_train, y_train, epochs=epochs, shuffle=False, batch_size=batch_size, verbose=1)"
   ]
  },
  {
   "cell_type": "markdown",
   "metadata": {},
   "source": [
    "---"
   ]
  },
  {
   "cell_type": "markdown",
   "metadata": {},
   "source": [
    "## Model Performance\n",
    "\n",
    "In this section, you will evaluate the model using the test data. \n",
    "\n",
    "You will need to:\n",
    "1. Evaluate the model using the `X_test` and `y_test` data.\n",
    "2. Use the X_test data to make predictions\n",
    "3. Create a DataFrame of Real (y_test) vs predicted values. \n",
    "4. Plot the Real vs predicted values as a line chart\n",
    "\n",
    "### Hints\n",
    "Remember to apply the `inverse_transform` function to the predicted and y_test values to recover the actual closing prices."
   ]
  },
  {
   "cell_type": "code",
   "execution_count": 105,
   "metadata": {},
   "outputs": [
    {
     "name": "stdout",
     "output_type": "stream",
     "text": [
      "6/6 [==============================] - 1s 2ms/step - loss: 0.1309\n"
     ]
    },
    {
     "data": {
      "text/plain": [
       "0.1308538168668747"
      ]
     },
     "execution_count": 105,
     "metadata": {},
     "output_type": "execute_result"
    }
   ],
   "source": [
    "# Evaluate the model\n",
    "model.evaluate(X_test, y_test)"
   ]
  },
  {
   "cell_type": "code",
   "execution_count": 106,
   "metadata": {},
   "outputs": [],
   "source": [
    "# Make some predictions\n",
    "predicted = model.predict(X_test)"
   ]
  },
  {
   "cell_type": "code",
   "execution_count": 107,
   "metadata": {},
   "outputs": [],
   "source": [
    "# Recover the original prices instead of the scaled version\n",
    "predicted_prices = scaler.inverse_transform(predicted)\n",
    "real_prices = scaler.inverse_transform(y_test.reshape(-1, 1))"
   ]
  },
  {
   "cell_type": "code",
   "execution_count": 108,
   "metadata": {},
   "outputs": [
    {
     "data": {
      "text/html": [
       "<div>\n",
       "<style scoped>\n",
       "    .dataframe tbody tr th:only-of-type {\n",
       "        vertical-align: middle;\n",
       "    }\n",
       "\n",
       "    .dataframe tbody tr th {\n",
       "        vertical-align: top;\n",
       "    }\n",
       "\n",
       "    .dataframe thead th {\n",
       "        text-align: right;\n",
       "    }\n",
       "</style>\n",
       "<table border=\"1\" class=\"dataframe\">\n",
       "  <thead>\n",
       "    <tr style=\"text-align: right;\">\n",
       "      <th></th>\n",
       "      <th>Real</th>\n",
       "      <th>Predicted</th>\n",
       "    </tr>\n",
       "  </thead>\n",
       "  <tbody>\n",
       "    <tr>\n",
       "      <th>2019-02-18</th>\n",
       "      <td>3670.919922</td>\n",
       "      <td>7027.387207</td>\n",
       "    </tr>\n",
       "    <tr>\n",
       "      <th>2019-02-19</th>\n",
       "      <td>3912.570068</td>\n",
       "      <td>6851.828613</td>\n",
       "    </tr>\n",
       "    <tr>\n",
       "      <th>2019-02-20</th>\n",
       "      <td>3924.239990</td>\n",
       "      <td>7338.507324</td>\n",
       "    </tr>\n",
       "    <tr>\n",
       "      <th>2019-02-21</th>\n",
       "      <td>3974.050049</td>\n",
       "      <td>9046.506836</td>\n",
       "    </tr>\n",
       "    <tr>\n",
       "      <th>2019-02-22</th>\n",
       "      <td>3937.040039</td>\n",
       "      <td>8981.050781</td>\n",
       "    </tr>\n",
       "  </tbody>\n",
       "</table>\n",
       "</div>"
      ],
      "text/plain": [
       "                   Real    Predicted\n",
       "2019-02-18  3670.919922  7027.387207\n",
       "2019-02-19  3912.570068  6851.828613\n",
       "2019-02-20  3924.239990  7338.507324\n",
       "2019-02-21  3974.050049  9046.506836\n",
       "2019-02-22  3937.040039  8981.050781"
      ]
     },
     "execution_count": 108,
     "metadata": {},
     "output_type": "execute_result"
    }
   ],
   "source": [
    "# Create a DataFrame of Real and Predicted values\n",
    "stocks = pd.DataFrame({\n",
    "    \"Real\": real_prices.ravel(),\n",
    "    \"Predicted\": predicted_prices.ravel()\n",
    "}, index = df.index[-len(real_prices): ]) \n",
    "stocks.head()"
   ]
  },
  {
   "cell_type": "code",
   "execution_count": 109,
   "metadata": {},
   "outputs": [
    {
     "data": {
      "text/plain": [
       "<AxesSubplot:>"
      ]
     },
     "execution_count": 109,
     "metadata": {},
     "output_type": "execute_result"
    },
    {
     "data": {
      "image/png": "[encoded data removed]",
      "text/plain": [
       "<Figure size 1440x720 with 1 Axes>"
      ]
     },
     "metadata": {
      "needs_background": "light"
     },
     "output_type": "display_data"
    }
   ],
   "source": [
    "# Plot the real vs predicted values as a line chart\n",
    "stocks.plot(figsize=(20,10))"
   ]
  },
  {
   "cell_type": "code",
   "execution_count": 111,
   "metadata": {},
   "outputs": [
    {
     "name": "stdout",
     "output_type": "stream",
     "text": [
      "The following is a trial and error of Window size as input and its corresponding MSE\n",
      "Window Size = 10 -> MSE = 0.1339\n",
      "Window Size = 8  -> MSE = 0.1389\n",
      "Window Size = 6  -> MSE = 0.1276\n",
      "Window Size = 4  -> MSE = 0.1330\n",
      "Window Size = 2  -> MSE = 0.1309\n"
     ]
    }
   ],
   "source": [
    "print(\"The following is a trial and error of Window size as input and its corresponding MSE\")\n",
    "print(\"Window Size = 10 -> MSE = 0.1339\")\n",
    "print(\"Window Size = 8  -> MSE = 0.1389\")\n",
    "print(\"Window Size = 6  -> MSE = 0.1276\")\n",
    "print(\"Window Size = 4  -> MSE = 0.1330\")\n",
    "print(\"Window Size = 2  -> MSE = 0.1309\")"
   ]
  },
  {
   "cell_type": "code",
   "execution_count": null,
   "metadata": {},
   "outputs": [],
   "source": []
  }
 ],
 "metadata": {
  "file_extension": ".py",
  "kernelspec": {
   "display_name": "Python 3",
   "language": "python",
   "name": "python3"
  },
  "language_info": {
   "codemirror_mode": {
    "name": "ipython",
    "version": 3
   },
   "file_extension": ".py",
   "mimetype": "text/x-python",
   "name": "python",
   "nbconvert_exporter": "python",
   "pygments_lexer": "ipython3",
   "version": "3.7.10"
  },
  "mimetype": "text/x-python",
  "name": "python",
  "npconvert_exporter": "python",
  "pygments_lexer": "ipython3",
  "version": 3
 },
 "nbformat": 4,
 "nbformat_minor": 4
}
